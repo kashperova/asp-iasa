{
 "cells": [
  {
   "cell_type": "code",
   "execution_count": 11,
   "id": "a418e60eb9c0ff5",
   "metadata": {
    "ExecuteTime": {
     "end_time": "2025-02-18T15:56:25.221940Z",
     "start_time": "2025-02-18T15:56:25.219072Z"
    }
   },
   "outputs": [],
   "source": [
    "import os\n",
    "\n",
    "os.environ[\"KAGGLE_CONFIG_DIR\"] = \"\""
   ]
  },
  {
   "cell_type": "code",
   "execution_count": 13,
   "id": "6fc8e267d5e385d6",
   "metadata": {
    "ExecuteTime": {
     "end_time": "2025-02-19T15:07:40.479474Z",
     "start_time": "2025-02-19T15:07:40.473317Z"
    }
   },
   "outputs": [],
   "source": [
    "# !kaggle datasets download -d mfekadu/english-multispeaker-corpus-for-voice-cloning\n",
    "# !unzip english-multispeaker-corpus-for-voice-cloning.zip -d ../../data/"
   ]
  },
  {
   "cell_type": "code",
   "id": "e243446fedab6870",
   "metadata": {
    "ExecuteTime": {
     "end_time": "2025-02-22T14:55:23.310766Z",
     "start_time": "2025-02-22T14:55:23.278965Z"
    }
   },
   "source": [
    "import warnings\n",
    "import json\n",
    "import os\n",
    "from glob import glob\n",
    "from typing import Callable\n",
    "from collections import defaultdict\n",
    "\n",
    "warnings.filterwarnings(\"ignore\")"
   ],
   "outputs": [],
   "execution_count": 2
  },
  {
   "cell_type": "code",
   "id": "3579e65f0a857fdf",
   "metadata": {
    "ExecuteTime": {
     "end_time": "2025-02-22T14:55:26.370908Z",
     "start_time": "2025-02-22T14:55:23.742178Z"
    }
   },
   "source": [
    "from models.vad import SpeechbrainVAD, EnergyVAD, SileroVAD, ZffVAD\n",
    "from utils.wav_utils import resample_file\n",
    "from utils.metrics import DetectionMetric"
   ],
   "outputs": [
    {
     "name": "stderr",
     "output_type": "stream",
     "text": [
      "INFO:speechbrain.utils.quirks:Applied quirks (see `speechbrain.utils.quirks`): [disable_jit_profiling, allow_tf32]\n",
      "INFO:speechbrain.utils.quirks:Excluded quirks specified by the `SB_DISABLE_QUIRKS` environment (comma-separated list): []\n"
     ]
    }
   ],
   "execution_count": 3
  },
  {
   "cell_type": "code",
   "id": "4bbfd64912c37edc",
   "metadata": {
    "ExecuteTime": {
     "end_time": "2025-02-22T14:55:26.376281Z",
     "start_time": "2025-02-22T14:55:26.374437Z"
    }
   },
   "source": [
    "class Config:\n",
    "    data_path: str = \"../data/VCTK-Corpus/VCTK-Corpus/wav48/*/*.wav\"\n",
    "    num_samples: int = 300\n",
    "    target_methods: list[str] = [\"silero\", \"speechbrain\", \"silero_merged\"]\n",
    "    pred_methods: list[str] = [\"zff\", \"energy\"]\n",
    "    boundaries_save_path: str = \"./boundaries_v3.json\""
   ],
   "outputs": [],
   "execution_count": 4
  },
  {
   "cell_type": "code",
   "id": "6e644720562d541",
   "metadata": {
    "ExecuteTime": {
     "end_time": "2025-02-22T14:55:27.048590Z",
     "start_time": "2025-02-22T14:55:26.894716Z"
    }
   },
   "source": [
    "audio_files = glob(Config.data_path, recursive=True)\n",
    "audio_files = list(filter(lambda f: \"16k\" not in f, audio_files))\n",
    "dataset = audio_files[: Config.num_samples]"
   ],
   "outputs": [],
   "execution_count": 5
  },
  {
   "metadata": {
    "ExecuteTime": {
     "end_time": "2025-02-22T14:55:27.642121Z",
     "start_time": "2025-02-22T14:55:27.624306Z"
    }
   },
   "cell_type": "code",
   "source": "len(audio_files)",
   "id": "87752ffd6d800ba",
   "outputs": [
    {
     "data": {
      "text/plain": [
       "36725"
      ]
     },
     "execution_count": 6,
     "metadata": {},
     "output_type": "execute_result"
    }
   ],
   "execution_count": 6
  },
  {
   "cell_type": "code",
   "id": "2fba18afb7328cf7",
   "metadata": {
    "ExecuteTime": {
     "end_time": "2025-02-22T14:55:28.278102Z",
     "start_time": "2025-02-22T14:55:28.271084Z"
    }
   },
   "source": [
    "if os.path.exists(Config.boundaries_save_path):\n",
    "    with open(Config.boundaries_save_path, \"r\") as file:\n",
    "        BOUNDARIES_DATA = json.load(file)\n",
    "else:\n",
    "    BOUNDARIES_DATA = {}"
   ],
   "outputs": [],
   "execution_count": 7
  },
  {
   "cell_type": "code",
   "id": "956476a0d55757b",
   "metadata": {
    "ExecuteTime": {
     "end_time": "2025-02-22T14:55:33.930374Z",
     "start_time": "2025-02-22T14:55:33.927666Z"
    }
   },
   "source": [
    "speechbrain_vad = SpeechbrainVAD()\n",
    "silero_vad = SileroVAD()\n",
    "energy_vad = EnergyVAD()\n",
    "zero_ff_vad = ZffVAD()"
   ],
   "outputs": [],
   "execution_count": 9
  },
  {
   "cell_type": "code",
   "id": "b664b80f32bea04d",
   "metadata": {
    "ExecuteTime": {
     "end_time": "2025-02-22T14:59:21.484201Z",
     "start_time": "2025-02-22T14:55:34.863877Z"
    }
   },
   "source": [
    "for audio_file in dataset:\n",
    "    # print(f\"Processing {audio_file}...\")\n",
    "    resampled_path = f\"{audio_file[:-4]}_16k.wav\"\n",
    "    if not os.path.exists(resampled_path):\n",
    "        print(f\"Resampling {audio_file}\")\n",
    "        resample_file(\n",
    "            audio_path=audio_file,\n",
    "            save_path=resampled_path,\n",
    "            target_sr=16000,\n",
    "            to_mono=True,\n",
    "        )\n",
    "\n",
    "    if audio_file not in BOUNDARIES_DATA:\n",
    "        BOUNDARIES_DATA[audio_file] = {\n",
    "            \"silero\": silero_vad.get_boundaries(audio_file),\n",
    "            \"silero_merged\": silero_vad.get_boundaries(audio_file, merge_th=150),\n",
    "            \"energy\": energy_vad.get_boundaries(audio_file),\n",
    "            \"speechbrain\": speechbrain_vad.get_boundaries(resampled_path, apply_energy_vad=False),\n",
    "            \"zff\": zero_ff_vad.get_boundaries(audio_file),\n",
    "        }\n",
    "\n",
    "with open(Config.boundaries_save_path, \"w\") as f:\n",
    "    json.dump(BOUNDARIES_DATA, f, indent=4)"
   ],
   "outputs": [],
   "execution_count": 10
  },
  {
   "cell_type": "code",
   "id": "f164fc7b078a671d",
   "metadata": {
    "ExecuteTime": {
     "end_time": "2025-02-22T15:01:57.980322Z",
     "start_time": "2025-02-22T15:01:57.936229Z"
    }
   },
   "source": [
    "metrics: list[DetectionMetric] = [\n",
    "    DetectionMetric.create(metric_name=\"error_rate\"),\n",
    "    DetectionMetric.create(metric_name=\"precision\"),\n",
    "    DetectionMetric.create(metric_name=\"recall\"),\n",
    "    DetectionMetric.create(metric_name=\"f1\"),\n",
    "]\n",
    "\n",
    "get_pred_methods: Callable[[dict[str, list[dict]]], list[str]] = lambda cache: [\n",
    "    k for k in cache.keys() if k not in Config.target_methods\n",
    "]\n",
    "first_char_upper: Callable[[str], dict[str]] = lambda text: text[0].upper() + text[1:]"
   ],
   "outputs": [],
   "execution_count": 11
  },
  {
   "cell_type": "code",
   "id": "760b437d63c3a5c4",
   "metadata": {
    "ExecuteTime": {
     "end_time": "2025-02-22T15:01:58.971086Z",
     "start_time": "2025-02-22T15:01:58.621426Z"
    }
   },
   "source": [
    "metrics_buffer = {\n",
    "    \"silero\": {pred_method: defaultdict(list) for pred_method in Config.pred_methods},\n",
    "    \"silero_merged\": {pred_method: defaultdict(list) for pred_method in Config.pred_methods},\n",
    "    \"speechbrain\": {\n",
    "        pred_method: defaultdict(list) for pred_method in Config.pred_methods\n",
    "    },\n",
    "}\n",
    "\n",
    "\n",
    "def count_metrics(method: str, cache: dict[str, list[dict]], target: str):\n",
    "    for metric in metrics:\n",
    "        metrics_buffer[target][method][metric.name].append(\n",
    "            metric(\n",
    "                targets=cache[target],\n",
    "                predictions=cache[method],\n",
    "            )\n",
    "        )\n",
    "\n",
    "\n",
    "for boundaries in BOUNDARIES_DATA.values():\n",
    "    for target_method in Config.target_methods:\n",
    "        for pred_method in get_pred_methods(boundaries):\n",
    "            count_metrics(\n",
    "                method=pred_method,\n",
    "                cache=boundaries,\n",
    "                target=target_method,\n",
    "            )"
   ],
   "outputs": [],
   "execution_count": 12
  },
  {
   "metadata": {
    "ExecuteTime": {
     "end_time": "2025-02-22T15:02:00.624469Z",
     "start_time": "2025-02-22T15:02:00.618078Z"
    }
   },
   "cell_type": "code",
   "source": [
    "for eval_model, metrics_cache in metrics_buffer.items():\n",
    "    for pred_method, data in metrics_cache.items():\n",
    "        print(\n",
    "            f\"Evaluating {first_char_upper(pred_method)} with {first_char_upper(eval_model)} as target:\"\n",
    "        )\n",
    "        for name, values in data.items():\n",
    "            print(f\"Avg detection {name} - {sum(values) / len(values)}\")\n",
    "        print(\"=\" * 50)"
   ],
   "id": "c26663c0cdaf6019",
   "outputs": [
    {
     "name": "stdout",
     "output_type": "stream",
     "text": [
      "Evaluating Zff with Silero as target:\n",
      "Avg detection error_rate - 1.0185666552005004\n",
      "Avg detection precision - 0.5145642466180951\n",
      "Avg detection recall - 0.9805756836031511\n",
      "Avg detection f1 - 0.6677925112483006\n",
      "==================================================\n",
      "Evaluating Energy with Silero as target:\n",
      "Avg detection error_rate - 1.0109586713232093\n",
      "Avg detection precision - 0.5160130766884796\n",
      "Avg detection recall - 1.0\n",
      "Avg detection f1 - 0.6751424127142461\n",
      "==================================================\n",
      "Evaluating Zff with Silero_merged as target:\n",
      "Avg detection error_rate - 1.017128601575384\n",
      "Avg detection precision - 0.5150881108152754\n",
      "Avg detection recall - 0.9806151569941385\n",
      "Avg detection f1 - 0.6681993008778345\n",
      "==================================================\n",
      "Evaluating Energy with Silero_merged as target:\n",
      "Avg detection error_rate - 1.0095528293528677\n",
      "Avg detection precision - 0.5165132103946282\n",
      "Avg detection recall - 1.0\n",
      "Avg detection f1 - 0.6755315521880686\n",
      "==================================================\n",
      "Evaluating Zff with Speechbrain as target:\n",
      "Avg detection error_rate - 0.9116974284188533\n",
      "Avg detection precision - 0.5521955806851793\n",
      "Avg detection recall - 0.9818346527261936\n",
      "Avg detection f1 - 0.6979516175848112\n",
      "==================================================\n",
      "Evaluating Energy with Speechbrain as target:\n",
      "Avg detection error_rate - 0.9052149320472975\n",
      "Avg detection precision - 0.5527538828925691\n",
      "Avg detection recall - 1.0\n",
      "Avg detection f1 - 0.7045768984522566\n",
      "==================================================\n"
     ]
    }
   ],
   "execution_count": 13
  }
 ],
 "metadata": {
  "kernelspec": {
   "display_name": "Python 3 (ipykernel)",
   "language": "python",
   "name": "python3"
  },
  "language_info": {
   "codemirror_mode": {
    "name": "ipython",
    "version": 3
   },
   "file_extension": ".py",
   "mimetype": "text/x-python",
   "name": "python",
   "nbconvert_exporter": "python",
   "pygments_lexer": "ipython3",
   "version": "3.10.15"
  }
 },
 "nbformat": 4,
 "nbformat_minor": 5
}
