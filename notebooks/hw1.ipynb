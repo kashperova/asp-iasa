{
 "cells": [
  {
   "cell_type": "code",
   "execution_count": 11,
   "id": "a418e60eb9c0ff5",
   "metadata": {
    "ExecuteTime": {
     "end_time": "2025-02-18T15:56:25.221940Z",
     "start_time": "2025-02-18T15:56:25.219072Z"
    }
   },
   "outputs": [],
   "source": [
    "import os\n",
    "\n",
    "os.environ[\"KAGGLE_CONFIG_DIR\"] = \"\""
   ]
  },
  {
   "cell_type": "code",
   "execution_count": 13,
   "id": "6fc8e267d5e385d6",
   "metadata": {
    "ExecuteTime": {
     "end_time": "2025-02-19T15:07:40.479474Z",
     "start_time": "2025-02-19T15:07:40.473317Z"
    }
   },
   "outputs": [],
   "source": [
    "# !kaggle datasets download -d mfekadu/english-multispeaker-corpus-for-voice-cloning\n",
    "# !unzip english-multispeaker-corpus-for-voice-cloning.zip -d ../../data/"
   ]
  },
  {
   "cell_type": "code",
   "execution_count": 1,
   "id": "e243446fedab6870",
   "metadata": {
    "ExecuteTime": {
     "end_time": "2025-02-19T15:50:41.571837Z",
     "start_time": "2025-02-19T15:50:41.561889Z"
    }
   },
   "outputs": [],
   "source": [
    "import warnings\n",
    "import json\n",
    "from glob import glob\n",
    "from typing import Callable\n",
    "from collections import defaultdict\n",
    "\n",
    "warnings.filterwarnings(\"ignore\")"
   ]
  },
  {
   "cell_type": "code",
   "execution_count": 11,
   "id": "3579e65f0a857fdf",
   "metadata": {
    "ExecuteTime": {
     "end_time": "2025-02-19T15:52:19.323683Z",
     "start_time": "2025-02-19T15:52:19.320165Z"
    }
   },
   "outputs": [],
   "source": [
    "from models.vad import SpeechbrainVAD, EnergyVAD, SileroVAD, ZffVAD\n",
    "from utils.wav_utils import resample_file\n",
    "from utils.metrics import DetectionMetric"
   ]
  },
  {
   "cell_type": "code",
   "execution_count": 19,
   "id": "4bbfd64912c37edc",
   "metadata": {
    "ExecuteTime": {
     "end_time": "2025-02-19T16:03:02.613822Z",
     "start_time": "2025-02-19T16:03:02.605684Z"
    }
   },
   "outputs": [],
   "source": [
    "class Config:\n",
    "    data_path: str = \"../data/VCTK-Corpus/VCTK-Corpus/wav48/*/*.wav\"\n",
    "    num_samples: int = 200\n",
    "    target_methods: list[str] = [\"silero\", \"speechbrain\"]\n",
    "    pred_methods: list[str] = [\"zff\", \"energy\"]\n",
    "    boundaries_save_path: str = \"./boundaries.json\""
   ]
  },
  {
   "cell_type": "code",
   "execution_count": 4,
   "id": "6e644720562d541",
   "metadata": {
    "ExecuteTime": {
     "end_time": "2025-02-19T15:50:47.456667Z",
     "start_time": "2025-02-19T15:50:47.319188Z"
    }
   },
   "outputs": [],
   "source": [
    "audio_files = glob(Config.data_path, recursive=True)\n",
    "dataset = audio_files[: Config.num_samples]"
   ]
  },
  {
   "cell_type": "code",
   "execution_count": 5,
   "id": "b9642dda62ef68a7",
   "metadata": {
    "ExecuteTime": {
     "end_time": "2025-02-19T15:50:47.468392Z",
     "start_time": "2025-02-19T15:50:47.464384Z"
    }
   },
   "outputs": [
    {
     "data": {
      "text/plain": [
       "36970"
      ]
     },
     "execution_count": 5,
     "metadata": {},
     "output_type": "execute_result"
    }
   ],
   "source": [
    "len(audio_files)"
   ]
  },
  {
   "cell_type": "code",
   "execution_count": 6,
   "id": "2fba18afb7328cf7",
   "metadata": {
    "ExecuteTime": {
     "end_time": "2025-02-19T15:50:47.481435Z",
     "start_time": "2025-02-19T15:50:47.479705Z"
    }
   },
   "outputs": [],
   "source": [
    "if os.path.exists(Config.boundaries_save_path):\n",
    "    with open(\"data.json\", \"r\") as file:\n",
    "        BOUNDARIES_DATA = json.load(file)\n",
    "else:\n",
    "    BOUNDARIES_DATA = {}"
   ]
  },
  {
   "cell_type": "code",
   "execution_count": 8,
   "id": "956476a0d55757b",
   "metadata": {
    "ExecuteTime": {
     "end_time": "2025-02-19T15:50:51.340023Z",
     "start_time": "2025-02-19T15:50:51.337604Z"
    }
   },
   "outputs": [],
   "source": [
    "speechbrain_vad = SpeechbrainVAD()\n",
    "silero_vad = SileroVAD()\n",
    "energy_vad = EnergyVAD()\n",
    "zero_ff_vad = ZffVAD()"
   ]
  },
  {
   "cell_type": "code",
   "execution_count": 12,
   "id": "b664b80f32bea04d",
   "metadata": {
    "ExecuteTime": {
     "end_time": "2025-02-19T15:56:38.898766Z",
     "start_time": "2025-02-19T15:52:24.089590Z"
    }
   },
   "outputs": [],
   "source": [
    "for audio_file in dataset:\n",
    "    # print(f\"Processing {audio_file}...\")\n",
    "    resampled_path = f\"{audio_file[:-4]}_16k.wav\"\n",
    "    if not os.path.exists(resampled_path):\n",
    "        resample_file(\n",
    "            audio_path=audio_file,\n",
    "            save_path=resampled_path,\n",
    "            target_sr=16000,\n",
    "            to_mono=True,\n",
    "        )\n",
    "\n",
    "    if audio_file not in BOUNDARIES_DATA:\n",
    "        BOUNDARIES_DATA[audio_file] = {\n",
    "            \"silero\": silero_vad.get_boundaries(audio_file),\n",
    "            \"energy\": energy_vad.get_boundaries(audio_file),\n",
    "            \"speechbrain\": speechbrain_vad.get_boundaries(resampled_path),\n",
    "            \"zff\": zero_ff_vad.get_boundaries(audio_file),\n",
    "        }\n",
    "\n",
    "with open(Config.boundaries_save_path, \"w\") as f:\n",
    "    json.dump(BOUNDARIES_DATA, f, indent=4)"
   ]
  },
  {
   "cell_type": "code",
   "execution_count": 14,
   "id": "f164fc7b078a671d",
   "metadata": {
    "ExecuteTime": {
     "end_time": "2025-02-19T15:56:53.237471Z",
     "start_time": "2025-02-19T15:56:53.225869Z"
    }
   },
   "outputs": [],
   "source": [
    "metrics: list[DetectionMetric] = [\n",
    "    DetectionMetric.create(metric_name=\"error_rate\"),\n",
    "    DetectionMetric.create(metric_name=\"precision\"),\n",
    "    DetectionMetric.create(metric_name=\"recall\"),\n",
    "    DetectionMetric.create(metric_name=\"f1\"),\n",
    "]\n",
    "\n",
    "get_pred_methods: Callable[[dict[str, list[dict]]], list[str]] = lambda cache: [\n",
    "    k for k in cache.keys() if k not in Config.target_methods\n",
    "]\n",
    "first_char_upper: Callable[[str], dict[str]] = lambda text: text[0].upper() + text[1:]"
   ]
  },
  {
   "cell_type": "code",
   "execution_count": 20,
   "id": "760b437d63c3a5c4",
   "metadata": {
    "ExecuteTime": {
     "end_time": "2025-02-19T16:03:06.581047Z",
     "start_time": "2025-02-19T16:03:05.932207Z"
    }
   },
   "outputs": [],
   "source": [
    "metrics_buffer = {\n",
    "    \"silero\": {pred_method: defaultdict(list) for pred_method in Config.pred_methods},\n",
    "    \"speechbrain\": {\n",
    "        pred_method: defaultdict(list) for pred_method in Config.pred_methods\n",
    "    },\n",
    "}\n",
    "\n",
    "\n",
    "def count_metrics(method: str, cache: dict[str, list[dict]], target: str):\n",
    "    for metric in metrics:\n",
    "        metrics_buffer[target][method][metric.name].append(\n",
    "            metric(\n",
    "                targets=cache[target],\n",
    "                predictions=cache[method],\n",
    "            )\n",
    "        )\n",
    "\n",
    "\n",
    "for boundaries in BOUNDARIES_DATA.values():\n",
    "    for target_method in Config.target_methods:\n",
    "        for pred_method in get_pred_methods(boundaries):\n",
    "            count_metrics(\n",
    "                method=pred_method,\n",
    "                cache=boundaries,\n",
    "                target=target_method,\n",
    "            )"
   ]
  },
  {
   "cell_type": "code",
   "execution_count": 22,
   "id": "af4525bd614127a1",
   "metadata": {
    "ExecuteTime": {
     "end_time": "2025-02-19T16:03:15.472126Z",
     "start_time": "2025-02-19T16:03:15.464914Z"
    }
   },
   "outputs": [
    {
     "name": "stdout",
     "output_type": "stream",
     "text": [
      "Evaluating zff with Silero as target:\n",
      "Avg detection error_rate - 0.9454136760644996\n",
      "Avg detection precision - 0.5303511087860955\n",
      "Avg detection recall - 0.662877746822391\n",
      "Avg detection f1 - 0.5840491927439041\n",
      "==================================================\n",
      "Evaluating energy with Silero as target:\n",
      "Avg detection error_rate - 0.9680405654825069\n",
      "Avg detection precision - 0.3420743006175927\n",
      "Avg detection recall - 0.4265007308420403\n",
      "Avg detection f1 - 0.37628666586045745\n",
      "==================================================\n",
      "Evaluating zff with Speechbrain as target:\n",
      "Avg detection error_rate - 1.3074775284703604\n",
      "Avg detection precision - 0.45758006784163874\n",
      "Avg detection recall - 0.9858362540409786\n",
      "Avg detection f1 - 0.6166886466969371\n",
      "==================================================\n",
      "Evaluating energy with Speechbrain as target:\n",
      "Avg detection error_rate - 1.179970975687464\n",
      "Avg detection precision - 0.2998422130504583\n",
      "Avg detection recall - 0.64\n",
      "Avg detection f1 - 0.4034032769639063\n",
      "==================================================\n"
     ]
    }
   ],
   "source": [
    "for eval_model, metrics_cache in metrics_buffer.items():\n",
    "    for pred_method, data in metrics_cache.items():\n",
    "        print(\n",
    "            f\"Evaluating {first_char_upper(pred_method)} with {first_char_upper(eval_model)} as target:\"\n",
    "        )\n",
    "        for name, values in data.items():\n",
    "            print(f\"Avg detection {name} - {sum(values) / len(values)}\")\n",
    "        print(\"=\" * 50)"
   ]
  }
 ],
 "metadata": {
  "kernelspec": {
   "display_name": "Python 3 (ipykernel)",
   "language": "python",
   "name": "python3"
  },
  "language_info": {
   "codemirror_mode": {
    "name": "ipython",
    "version": 3
   },
   "file_extension": ".py",
   "mimetype": "text/x-python",
   "name": "python",
   "nbconvert_exporter": "python",
   "pygments_lexer": "ipython3",
   "version": "3.10.15"
  }
 },
 "nbformat": 4,
 "nbformat_minor": 5
}
