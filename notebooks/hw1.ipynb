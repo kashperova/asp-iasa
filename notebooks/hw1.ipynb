{
 "cells": [
  {
   "cell_type": "code",
   "execution_count": 1,
   "id": "a418e60eb9c0ff5",
   "metadata": {
    "ExecuteTime": {
     "end_time": "2025-02-18T15:56:25.221940Z",
     "start_time": "2025-02-18T15:56:25.219072Z"
    }
   },
   "outputs": [],
   "source": [
    "import os\n",
    "\n",
    "os.environ[\"KAGGLE_CONFIG_DIR\"] = \"\""
   ]
  },
  {
   "cell_type": "code",
   "execution_count": 36,
   "id": "6fc8e267d5e385d6",
   "metadata": {
    "ExecuteTime": {
     "end_time": "2025-02-19T15:07:40.479474Z",
     "start_time": "2025-02-19T15:07:40.473317Z"
    }
   },
   "outputs": [
    {
     "name": "stdout",
     "output_type": "stream",
     "text": [
      "^C\n"
     ]
    },
    {
     "name": "stderr",
     "output_type": "stream",
     "text": [
      "'unzip' is not recognized as an internal or external command,\n",
      "operable program or batch file.\n"
     ]
    }
   ],
   "source": [
    "!kaggle datasets download -d mfekadu/english-multispeaker-corpus-for-voice-cloning\n",
    "!unzip english-multispeaker-corpus-for-voice-cloning.zip -d ../../data/"
   ]
  },
  {
   "cell_type": "code",
<<<<<<< HEAD
   "execution_count": 2,
=======
   "execution_count": 1,
>>>>>>> d49cacbe3fa24ba073de0e97c2922962faa48c2c
   "id": "e243446fedab6870",
   "metadata": {
    "ExecuteTime": {
     "end_time": "2025-02-23T12:37:33.912285Z",
     "start_time": "2025-02-23T12:37:33.906954Z"
    }
   },
   "outputs": [],
   "source": [
    "import warnings\n",
    "import json\n",
    "import os\n",
    "import sys\n",
    "from glob import glob\n",
    "from typing import Callable\n",
    "from collections import defaultdict\n",
    "\n",
    "warnings.filterwarnings(\"ignore\")"
   ]
  },
  {
   "cell_type": "code",
<<<<<<< HEAD
   "execution_count": 3,
   "id": "12dd39c5",
   "metadata": {},
   "outputs": [],
   "source": [
    "sys.path.append(os.path.abspath(os.path.join(os.getcwd(), '..', 'src')))"
   ]
  },
  {
   "cell_type": "code",
   "execution_count": 5,
=======
   "execution_count": 2,
>>>>>>> d49cacbe3fa24ba073de0e97c2922962faa48c2c
   "id": "3579e65f0a857fdf",
   "metadata": {
    "ExecuteTime": {
     "end_time": "2025-02-23T12:37:36.546121Z",
     "start_time": "2025-02-23T12:37:34.329511Z"
    }
   },
   "outputs": [
    {
     "ename": "ImportError",
     "evalue": "cannot import name 'SpeechbrainVAD' from 'models.vad' (unknown location)",
     "output_type": "error",
     "traceback": [
      "\u001b[1;31m---------------------------------------------------------------------------\u001b[0m",
      "\u001b[1;31mImportError\u001b[0m                               Traceback (most recent call last)",
      "Cell \u001b[1;32mIn[5], line 1\u001b[0m\n\u001b[1;32m----> 1\u001b[0m \u001b[38;5;28;01mfrom\u001b[39;00m\u001b[38;5;250m \u001b[39m\u001b[38;5;21;01mmodels\u001b[39;00m\u001b[38;5;21;01m.\u001b[39;00m\u001b[38;5;21;01mvad\u001b[39;00m\u001b[38;5;250m \u001b[39m\u001b[38;5;28;01mimport\u001b[39;00m SpeechbrainVAD, EnergyVAD, SileroVAD \u001b[38;5;66;03m#, ZffVAD\u001b[39;00m\n\u001b[0;32m      2\u001b[0m \u001b[38;5;28;01mfrom\u001b[39;00m\u001b[38;5;250m \u001b[39m\u001b[38;5;21;01mutils\u001b[39;00m\u001b[38;5;21;01m.\u001b[39;00m\u001b[38;5;21;01mwav_utils\u001b[39;00m\u001b[38;5;250m \u001b[39m\u001b[38;5;28;01mimport\u001b[39;00m resample_file\n\u001b[0;32m      3\u001b[0m \u001b[38;5;28;01mfrom\u001b[39;00m\u001b[38;5;250m \u001b[39m\u001b[38;5;21;01mutils\u001b[39;00m\u001b[38;5;21;01m.\u001b[39;00m\u001b[38;5;21;01mmetrics\u001b[39;00m\u001b[38;5;250m \u001b[39m\u001b[38;5;28;01mimport\u001b[39;00m DetectionMetric\n",
      "\u001b[1;31mImportError\u001b[0m: cannot import name 'SpeechbrainVAD' from 'models.vad' (unknown location)"
     ]
    }
   ],
   "source": [
<<<<<<< HEAD
    "from models.vad import SpeechbrainVAD, EnergyVAD, SileroVAD #, ZffVAD\n",
    "from utils.wav_utils import resample_file\n",
=======
    "from models.vad import SpeechbrainVAD, EnergyVAD, SileroVAD, ZffVAD\n",
    "from utils.wav_utils import resample_file, get_duration\n",
>>>>>>> d49cacbe3fa24ba073de0e97c2922962faa48c2c
    "from utils.metrics import DetectionMetric"
   ]
  },
  {
   "cell_type": "code",
<<<<<<< HEAD
   "execution_count": 33,
=======
   "execution_count": 3,
>>>>>>> d49cacbe3fa24ba073de0e97c2922962faa48c2c
   "id": "4bbfd64912c37edc",
   "metadata": {
    "ExecuteTime": {
     "end_time": "2025-02-23T12:37:36.551612Z",
     "start_time": "2025-02-23T12:37:36.549619Z"
    }
   },
   "outputs": [],
   "source": [
    "class Config:\n",
    "    data_path: str = \"../data/VCTK-Corpus/VCTK-Corpus/wav48/*/*.wav\"\n",
    "    num_samples: int = 300\n",
    "    target_methods: list[str] = [\"silero\", \"speechbrain\", \"silero_merged\"]\n",
    "    pred_methods: list[str] = [\"zff\", \"energy\", \"full_speech\"]\n",
    "    boundaries_save_path: str = \"./boundaries_v3.json\""
   ]
  },
  {
   "cell_type": "code",
<<<<<<< HEAD
   "execution_count": 34,
=======
   "execution_count": 4,
>>>>>>> d49cacbe3fa24ba073de0e97c2922962faa48c2c
   "id": "6e644720562d541",
   "metadata": {
    "ExecuteTime": {
     "end_time": "2025-02-23T12:37:37.113589Z",
     "start_time": "2025-02-23T12:37:37.056308Z"
    }
   },
   "outputs": [],
   "source": [
    "audio_files = glob(Config.data_path, recursive=True)\n",
    "audio_files = list(filter(lambda f: \"16k\" not in f, audio_files))\n",
    "dataset = audio_files[: Config.num_samples]"
   ]
  },
  {
   "cell_type": "code",
<<<<<<< HEAD
   "execution_count": 35,
=======
   "execution_count": 7,
>>>>>>> d49cacbe3fa24ba073de0e97c2922962faa48c2c
   "id": "87752ffd6d800ba",
   "metadata": {
    "ExecuteTime": {
     "end_time": "2025-02-23T11:58:11.336839Z",
     "start_time": "2025-02-23T11:58:11.331493Z"
    }
   },
   "outputs": [
    {
     "data": {
      "text/plain": [
       "0"
      ]
     },
<<<<<<< HEAD
     "execution_count": 35,
=======
     "execution_count": 7,
>>>>>>> d49cacbe3fa24ba073de0e97c2922962faa48c2c
     "metadata": {},
     "output_type": "execute_result"
    }
   ],
   "source": [
    "len(audio_files)"
   ]
  },
  {
   "cell_type": "code",
<<<<<<< HEAD
   "execution_count": null,
=======
   "execution_count": 8,
>>>>>>> d49cacbe3fa24ba073de0e97c2922962faa48c2c
   "id": "2fba18afb7328cf7",
   "metadata": {
    "ExecuteTime": {
     "end_time": "2025-02-23T10:35:30.731565Z",
     "start_time": "2025-02-23T10:35:30.726774Z"
    }
   },
   "outputs": [],
   "source": [
    "if os.path.exists(Config.boundaries_save_path):\n",
    "    with open(Config.boundaries_save_path, \"r\") as file:\n",
    "        BOUNDARIES_DATA = json.load(file)\n",
    "else:\n",
    "    BOUNDARIES_DATA = {}"
   ]
  },
  {
   "cell_type": "code",
<<<<<<< HEAD
   "execution_count": null,
=======
   "execution_count": 10,
>>>>>>> d49cacbe3fa24ba073de0e97c2922962faa48c2c
   "id": "956476a0d55757b",
   "metadata": {
    "ExecuteTime": {
     "end_time": "2025-02-23T10:36:03.899115Z",
     "start_time": "2025-02-23T10:36:03.880800Z"
    }
   },
   "outputs": [],
   "source": [
    "speechbrain_vad = SpeechbrainVAD()\n",
    "silero_vad = SileroVAD()\n",
    "energy_vad = EnergyVAD()\n",
<<<<<<< HEAD
    "# zero_ff_vad = ZffVAD()"
=======
    "zero_ff_vad = ZffVAD()"
>>>>>>> d49cacbe3fa24ba073de0e97c2922962faa48c2c
   ]
  },
  {
   "cell_type": "code",
<<<<<<< HEAD
   "execution_count": null,
=======
   "execution_count": 11,
>>>>>>> d49cacbe3fa24ba073de0e97c2922962faa48c2c
   "id": "b664b80f32bea04d",
   "metadata": {
    "ExecuteTime": {
     "end_time": "2025-02-23T10:46:58.875662Z",
     "start_time": "2025-02-23T10:36:04.563583Z"
    }
   },
   "outputs": [],
   "source": [
    "for audio_file in dataset:\n",
    "    # print(f\"Processing {audio_file}...\")\n",
    "    resampled_path = f\"{audio_file[:-4]}_16k.wav\"\n",
    "    if not os.path.exists(resampled_path):\n",
    "        print(f\"Resampling {audio_file}\")\n",
    "        resample_file(\n",
    "            audio_path=audio_file,\n",
    "            save_path=resampled_path,\n",
    "            target_sr=16000,\n",
    "            to_mono=True,\n",
    "        )\n",
    "\n",
    "    if audio_file not in BOUNDARIES_DATA:\n",
    "        duration = get_duration(audio_file)\n",
    "        BOUNDARIES_DATA[audio_file] = {\n",
    "            \"silero\": silero_vad.get_boundaries(audio_file),\n",
    "            \"silero_merged\": silero_vad.get_boundaries(audio_file, merge_th=300),\n",
    "            \"energy\": energy_vad.get_boundaries(audio_file, close_th=500),\n",
    "            \"speechbrain\": speechbrain_vad.get_boundaries(\n",
    "                resampled_path, apply_energy_vad=False\n",
    "            ),\n",
    "            \"zff\": zero_ff_vad.get_boundaries(audio_file, close_th=500),\n",
    "            \"full_speech\": [{\"start\": 0.0, \"end\": get_duration(audio_file)}],\n",
    "        }\n",
    "\n",
    "with open(Config.boundaries_save_path, \"w\") as f:\n",
    "    json.dump(BOUNDARIES_DATA, f, indent=4)"
   ]
  },
  {
   "cell_type": "code",
<<<<<<< HEAD
   "execution_count": null,
=======
   "execution_count": 14,
>>>>>>> d49cacbe3fa24ba073de0e97c2922962faa48c2c
   "id": "f164fc7b078a671d",
   "metadata": {
    "ExecuteTime": {
     "end_time": "2025-02-23T10:47:05.385092Z",
     "start_time": "2025-02-23T10:47:05.378466Z"
    }
   },
   "outputs": [],
   "source": [
    "metrics: list[DetectionMetric] = [\n",
    "    DetectionMetric.create(metric_name=\"error_rate\"),\n",
    "    DetectionMetric.create(metric_name=\"precision\"),\n",
    "    DetectionMetric.create(metric_name=\"recall\"),\n",
    "    DetectionMetric.create(metric_name=\"f1\"),\n",
    "]\n",
    "\n",
    "get_pred_methods: Callable[[dict[str, list[dict]]], list[str]] = lambda cache: [\n",
    "    k for k in cache.keys() if k not in Config.target_methods\n",
    "]\n",
    "first_char_upper: Callable[[str], dict[str]] = lambda text: text[0].upper() + text[1:]"
   ]
  },
  {
   "cell_type": "code",
<<<<<<< HEAD
   "execution_count": null,
=======
   "execution_count": 15,
>>>>>>> d49cacbe3fa24ba073de0e97c2922962faa48c2c
   "id": "760b437d63c3a5c4",
   "metadata": {
    "ExecuteTime": {
     "end_time": "2025-02-23T10:47:09.373285Z",
     "start_time": "2025-02-23T10:47:07.695546Z"
    }
   },
   "outputs": [],
   "source": [
    "metrics_buffer = {\n",
    "    \"silero\": {pred_method: defaultdict(list) for pred_method in Config.pred_methods},\n",
    "    \"silero_merged\": {\n",
    "        pred_method: defaultdict(list) for pred_method in Config.pred_methods\n",
    "    },\n",
    "    \"speechbrain\": {\n",
    "        pred_method: defaultdict(list) for pred_method in Config.pred_methods\n",
    "    },\n",
    "}\n",
    "\n",
    "\n",
    "def count_metrics(\n",
    "    audio_id: str, method: str, cache: dict[str, list[dict]], target: str\n",
    "):\n",
    "    for metric in metrics:\n",
    "        metrics_buffer[target][method][metric.name].append(\n",
    "            metric(\n",
    "                targets=cache[target],\n",
    "                predictions=cache[method],\n",
    "            )\n",
    "        )\n",
    "\n",
    "\n",
    "for key, boundaries in BOUNDARIES_DATA.items():\n",
    "    for target_method in Config.target_methods:\n",
    "        for pred_method in get_pred_methods(boundaries):\n",
    "            count_metrics(\n",
    "                audio_id=key,\n",
    "                method=pred_method,\n",
    "                cache=boundaries,\n",
    "                target=target_method,\n",
    "            )"
   ]
  },
  {
   "cell_type": "code",
<<<<<<< HEAD
   "execution_count": null,
=======
   "execution_count": 16,
>>>>>>> d49cacbe3fa24ba073de0e97c2922962faa48c2c
   "id": "c26663c0cdaf6019",
   "metadata": {
    "ExecuteTime": {
     "end_time": "2025-02-23T10:47:19.932867Z",
     "start_time": "2025-02-23T10:47:19.923728Z"
    }
   },
   "outputs": [
    {
     "name": "stdout",
     "output_type": "stream",
     "text": [
      "Evaluating Zff with Silero as target:\n",
<<<<<<< HEAD
      "Avg detection error_rate - 1.0185666552005004\n",
      "Avg detection precision - 0.5145642466180951\n",
      "Avg detection recall - 0.9805756836031511\n",
      "Avg detection f1 - 0.6677925112483006\n",
      "==================================================\n",
      "Evaluating Energy with Silero as target:\n",
      "Avg detection error_rate - 1.0109586713232093\n",
      "Avg detection precision - 0.5160130766884796\n",
      "Avg detection recall - 1.0\n",
      "Avg detection f1 - 0.6751424127142461\n",
      "==================================================\n",
      "Evaluating Zff with Silero_merged as target:\n",
      "Avg detection error_rate - 1.017128601575384\n",
      "Avg detection precision - 0.5150881108152754\n",
      "Avg detection recall - 0.9806151569941385\n",
      "Avg detection f1 - 0.6681993008778345\n",
      "==================================================\n",
      "Evaluating Energy with Silero_merged as target:\n",
      "Avg detection error_rate - 1.0095528293528677\n",
      "Avg detection precision - 0.5165132103946282\n",
      "Avg detection recall - 1.0\n",
      "Avg detection f1 - 0.6755315521880686\n",
      "==================================================\n",
      "Evaluating Zff with Speechbrain as target:\n",
      "Avg detection error_rate - 0.9116974284188533\n",
      "Avg detection precision - 0.5521955806851793\n",
      "Avg detection recall - 0.9818346527261936\n",
      "Avg detection f1 - 0.6979516175848112\n",
      "==================================================\n",
      "Evaluating Energy with Speechbrain as target:\n",
      "Avg detection error_rate - 0.9052149320472975\n",
      "Avg detection precision - 0.5527538828925691\n",
      "Avg detection recall - 1.0\n",
      "Avg detection f1 - 0.7045768984522566\n",
=======
      "Avg detection error_rate - 1.01489310096228\n",
      "Avg detection precision - 0.5117091431858285\n",
      "Avg detection recall - 0.9972186924822481\n",
      "Avg detection f1 - 0.6715370925197742\n",
      "==================================================\n",
      "Evaluating Energy with Silero as target:\n",
      "Avg detection error_rate - 0.4501670459100451\n",
      "Avg detection precision - 0.9982126380105378\n",
      "Avg detection recall - 0.5509874124086719\n",
      "Avg detection f1 - 0.6913236909503266\n",
      "==================================================\n",
      "Evaluating Full_speech with Silero as target:\n",
      "Avg detection error_rate - 1.0247548450690047\n",
      "Avg detection precision - 0.5091629903888466\n",
      "Avg detection recall - 0.999999971935969\n",
      "Avg detection f1 - 0.670298617415011\n",
      "==================================================\n",
      "Evaluating Zff with Silero_merged as target:\n",
      "Avg detection error_rate - 1.0069586242569626\n",
      "Avg detection precision - 0.5143488038808729\n",
      "Avg detection recall - 0.9972186924822481\n",
      "Avg detection f1 - 0.6736337725465645\n",
      "==================================================\n",
      "Evaluating Energy with Silero_merged as target:\n",
      "Avg detection error_rate - 0.4507566130201017\n",
      "Avg detection precision - 0.9994801083927601\n",
      "Avg detection recall - 0.5496443916160997\n",
      "Avg detection f1 - 0.6903586925409007\n",
      "==================================================\n",
      "Evaluating Full_speech with Silero_merged as target:\n",
      "Avg detection error_rate - 1.0167810941942315\n",
      "Avg detection precision - 0.511789873714806\n",
      "Avg detection recall - 0.999999971935969\n",
      "Avg detection f1 - 0.6723925169578259\n",
      "==================================================\n",
      "Evaluating Zff with Speechbrain as target:\n",
      "Avg detection error_rate - 0.9083474602554549\n",
      "Avg detection precision - 0.5480453964834134\n",
      "Avg detection recall - 0.9973978688810969\n",
      "Avg detection f1 - 0.7005697735306007\n",
      "==================================================\n",
      "Evaluating Energy with Speechbrain as target:\n",
      "Avg detection error_rate - 0.48457810138560425\n",
      "Avg detection precision - 0.9946454962663432\n",
      "Avg detection recall - 0.5188574901169106\n",
      "Avg detection f1 - 0.6618854858951372\n",
      "==================================================\n",
      "Evaluating Full_speech with Speechbrain as target:\n",
      "Avg detection error_rate - 0.9178563142956597\n",
      "Avg detection precision - 0.5451118883051762\n",
      "Avg detection recall - 1.0\n",
      "Avg detection f1 - 0.6991261336874026\n",
>>>>>>> d49cacbe3fa24ba073de0e97c2922962faa48c2c
      "==================================================\n"
     ]
    }
   ],
   "source": [
    "for eval_model, metrics_cache in metrics_buffer.items():\n",
    "    for pred_method, data in metrics_cache.items():\n",
    "        print(\n",
    "            f\"Evaluating {first_char_upper(pred_method)} with {first_char_upper(eval_model)} as target:\"\n",
    "        )\n",
    "        for name, values in data.items():\n",
    "            print(f\"Avg detection {name} - {sum(values) / len(values)}\")\n",
    "        print(\"=\" * 50)"
   ]
<<<<<<< HEAD
=======
  },
  {
   "cell_type": "code",
   "execution_count": null,
   "id": "461ca5af5ee6b88a",
   "metadata": {},
   "outputs": [],
   "source": []
  },
  {
   "cell_type": "code",
   "execution_count": null,
   "id": "4e45602b1a4d6342",
   "metadata": {},
   "outputs": [],
   "source": []
  },
  {
   "cell_type": "code",
   "execution_count": null,
   "id": "93e329386717c6bf",
   "metadata": {},
   "outputs": [],
   "source": []
>>>>>>> d49cacbe3fa24ba073de0e97c2922962faa48c2c
  }
 ],
 "metadata": {
  "kernelspec": {
   "display_name": "Python 3",
   "language": "python",
   "name": "python3"
  },
  "language_info": {
   "codemirror_mode": {
    "name": "ipython",
    "version": 3
   },
   "file_extension": ".py",
   "mimetype": "text/x-python",
   "name": "python",
   "nbconvert_exporter": "python",
   "pygments_lexer": "ipython3",
   "version": "3.12.8"
  }
 },
 "nbformat": 4,
 "nbformat_minor": 5
}
